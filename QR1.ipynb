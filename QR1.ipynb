{
  "nbformat": 4,
  "nbformat_minor": 0,
  "metadata": {
    "colab": {
      "name": "QR1.ipynb",
      "version": "0.3.2",
      "provenance": [],
      "include_colab_link": true
    },
    "kernelspec": {
      "name": "python3",
      "display_name": "Python 3"
    }
  },
  "cells": [
    {
      "cell_type": "markdown",
      "metadata": {
        "id": "view-in-github",
        "colab_type": "text"
      },
      "source": [
        "<a href=\"https://colab.research.google.com/github/jonschull/DeadSimpleScreeSharing/blob/master/QR1.ipynb\" target=\"_parent\"><img src=\"https://colab.research.google.com/assets/colab-badge.svg\" alt=\"Open In Colab\"/></a>"
      ]
    },
    {
      "metadata": {
        "id": "CgTPqvr-ncT4",
        "colab_type": "code",
        "colab": {}
      },
      "cell_type": "code",
      "source": [
        "#!pip3 install pyqrcode\n",
        "#!pip install pypng"
      ],
      "execution_count": 0,
      "outputs": []
    },
    {
      "metadata": {
        "id": "kT3J_VsVneiF",
        "colab_type": "code",
        "colab": {}
      },
      "cell_type": "code",
      "source": [
        "import pyqrcode\n",
        "\n",
        "msg=\"\"\"MATMSG:TO:jschull@gmail.com;SUB:This is the subject;BODY:This \n",
        "is \n",
        "the \n",
        "body\n",
        "one\n",
        "word \n",
        "per \n",
        "line.;;\"\"\"\n",
        "\n",
        "big_code = pyqrcode.create(msg)\n",
        "#big_code.png('code.png', scale=6, module_color=[0, 0, 0, 128], background=[0xff, 0xff, 0xcc])\n",
        "big_code.png('msg.png')\n"
      ],
      "execution_count": 0,
      "outputs": []
    },
    {
      "metadata": {
        "id": "HtZ6pt09oJg2",
        "colab_type": "code",
        "colab": {}
      },
      "cell_type": "code",
      "source": [
        "#from google.colab import files #upload and download\n",
        "#files.download('msg.png')"
      ],
      "execution_count": 0,
      "outputs": []
    },
    {
      "metadata": {
        "id": "JwBfHkOjuAnk",
        "colab_type": "code",
        "colab": {}
      },
      "cell_type": "code",
      "source": [
        "#from google.colab import drive #makes my GDrive visible in the file browser at left\n",
        "#drive.mount('/content/drive')"
      ],
      "execution_count": 0,
      "outputs": []
    },
    {
      "metadata": {
        "id": "_8A6EMo4xWdq",
        "colab_type": "code",
        "outputId": "52de0d64-35f6-4178-c1af-a0d1708778d1",
        "colab": {
          "base_uri": "https://localhost:8080/",
          "height": 78
        }
      },
      "cell_type": "code",
      "source": [
        "from IPython.display import Image\n",
        "png=Image('msg.png')\n",
        "png"
      ],
      "execution_count": 16,
      "outputs": [
        {
          "output_type": "execute_result",
          "data": {
            "image/png": "[encoded data removed]",
            "text/plain": [
              "<IPython.core.display.Image object>"
            ]
          },
          "metadata": {
            "tags": []
          },
          "execution_count": 16
        }
      ]
    },
    {
      "metadata": {
        "id": "jvJKKACTxnjd",
        "colab_type": "code",
        "colab": {}
      },
      "cell_type": "code",
      "source": [
        ""
      ],
      "execution_count": 0,
      "outputs": []
    },
    {
      "metadata": {
        "id": "ARg8c4ug1S74",
        "colab_type": "code",
        "colab": {
          "base_uri": "https://localhost:8080/",
          "height": 47
        },
        "outputId": "43e35c87-eb97-473a-ef09-2225c1d79f13"
      },
      "cell_type": "code",
      "source": [
        "#DEMO #https://code-maven.com/create-images-with-python-pil-pillow\n",
        "from PIL import Image, ImageDraw\n",
        " \n",
        "img = Image.new('RGB', (100, 30), color = (73, 109, 137))\n",
        " \n",
        "d = ImageDraw.Draw(img)\n",
        "d.text((10,10), \"Hello World\", fill=(255,255,0))\n",
        " \n",
        "img.save('pil_text.png')\n",
        "  \n",
        "from IPython.display import Image\n",
        "Image('pil_text.png')"
      ],
      "execution_count": 13,
      "outputs": [
        {
          "output_type": "execute_result",
          "data": {
            "image/png": "[encoded data removed]",
            "text/plain": [
              "<IPython.core.display.Image object>"
            ]
          },
          "metadata": {
            "tags": []
          },
          "execution_count": 13
        }
      ]
    },
    {
      "metadata": {
        "id": "rPZpKX_G2BCZ",
        "colab_type": "code",
        "colab": {}
      },
      "cell_type": "code",
      "source": [
        "img.fromstring?"
      ],
      "execution_count": 0,
      "outputs": []
    },
    {
      "metadata": {
        "id": "HKJWS8JA2G4v",
        "colab_type": "code",
        "colab": {
          "base_uri": "https://localhost:8080/",
          "height": 54
        },
        "outputId": "28bbf951-f0e5-4d5f-8650-4f48d7a7d21e"
      },
      "cell_type": "code",
      "source": [
        "big_code."
      ],
      "execution_count": 14,
      "outputs": [
        {
          "output_type": "execute_result",
          "data": {
            "text/plain": [
              "QRCode(content=b'MATMSG:TO:jschull@gmail.com;SUB:This is the subject;BODY:This\\nis\\nthe \\nbody\\none\\nword \\nper \\nline.;;', error='H', version=9, mode='binary')"
            ]
          },
          "metadata": {
            "tags": []
          },
          "execution_count": 14
        }
      ]
    },
    {
      "metadata": {
        "id": "rk8mnbIp2gy4",
        "colab_type": "code",
        "colab": {
          "base_uri": "https://localhost:8080/",
          "height": 139
        },
        "outputId": "aec8c599-58ed-4c2b-e73b-8c3bc781d854"
      },
      "cell_type": "code",
      "source": [
        "#DEMO #https://python-forum.io/Thread-Pasting-multiple-images-on-to-one-image-with-a-for-loop\n",
        "from PIL import Image\n",
        " \n",
        "img_to_paste = Image.open('msg.png')\n",
        "width, height = img_to_paste.size\n",
        " \n",
        "n = 2   # paste image n-times\n",
        " \n",
        "img = Image.new('RGB', (width, height*n), color=(0, 0, 0))     # set width, height of new image based on original image\n",
        "img.save('out.png')\n",
        " \n",
        "for i in range(0, n):\n",
        "    out = Image.open('out.png')\n",
        "    out.paste(img_to_paste, (0,i*width))    # the second argument here is tuple representing upper left corner\n",
        "    out.save('out.png')\n",
        "    \n",
        "from IPython.display import Image\n",
        "Image('out.png')"
      ],
      "execution_count": 36,
      "outputs": [
        {
          "output_type": "execute_result",
          "data": {
            "image/png": "[encoded data removed]",
            "text/plain": [
              "<IPython.core.display.Image object>"
            ]
          },
          "metadata": {
            "tags": []
          },
          "execution_count": 36
        }
      ]
    },
    {
      "metadata": {
        "id": "L1YC0IbP2qT3",
        "colab_type": "code",
        "colab": {
          "base_uri": "https://localhost:8080/",
          "height": 34
        },
        "outputId": "95922980-f88b-47de-d6b1-ff06a34ad0ba"
      },
      "cell_type": "code",
      "source": [
        "!ls"
      ],
      "execution_count": 29,
      "outputs": [
        {
          "output_type": "stream",
          "text": [
            "drive  msg.png\tout.png  pil_text.png  sample_data\n"
          ],
          "name": "stdout"
        }
      ]
    },
    {
      "metadata": {
        "id": "_gEebevN5-Jj",
        "colab_type": "code",
        "colab": {
          "base_uri": "https://localhost:8080/",
          "height": 78
        },
        "outputId": "9dac80c8-e054-4618-bae3-f8326519d028"
      },
      "cell_type": "code",
      "source": [
        "from IPython.display import Image\n",
        "Image('out.png')"
      ],
      "execution_count": 31,
      "outputs": [
        {
          "output_type": "execute_result",
          "data": {
            "image/png": "[encoded data removed]",
            "text/plain": [
              "<IPython.core.display.Image object>"
            ]
          },
          "metadata": {
            "tags": []
          },
          "execution_count": 31
        }
      ]
    },
    {
      "metadata": {
        "id": "V0ufUUIP5_t2",
        "colab_type": "code",
        "colab": {}
      },
      "cell_type": "code",
      "source": [
        ""
      ],
      "execution_count": 0,
      "outputs": []
    }
  ]
}